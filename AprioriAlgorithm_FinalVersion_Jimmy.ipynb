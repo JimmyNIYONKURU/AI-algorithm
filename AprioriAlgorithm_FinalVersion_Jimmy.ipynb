{
  "nbformat": 4,
  "nbformat_minor": 0,
  "metadata": {
    "colab": {
      "provenance": [],
      "toc_visible": true,
      "authorship_tag": "ABX9TyO4ftddjAnceJW79g8bKN0+",
      "include_colab_link": true
    },
    "kernelspec": {
      "name": "python3",
      "display_name": "Python 3"
    },
    "language_info": {
      "name": "python"
    }
  },
  "cells": [
    {
      "cell_type": "markdown",
      "metadata": {
        "id": "view-in-github",
        "colab_type": "text"
      },
      "source": [
        "<a href=\"https://colab.research.google.com/github/JimmyNIYONKURU/AI-algorithm/blob/main/AprioriAlgorithm_FinalVersion_Jimmy.ipynb\" target=\"_parent\"><img src=\"https://colab.research.google.com/assets/colab-badge.svg\" alt=\"Open In Colab\"/></a>"
      ]
    },
    {
      "cell_type": "markdown",
      "source": [
        "**Apriori Algorithm by Jimmy NIYONKURU TMLE (Tomorow Machine Learning \n",
        " Engineer)**\n",
        "\n",
        "Le code ci-dessous utilise l'algorithme d'apriori pour l'exploration de données et la génération de règles d'association fréquentes. Les commentaires expliquent les différentes étapes de l'algorithme, notamment le calcul du support, la génération des ensembles candidats, le filtrage des ensembles fréquents, le calcul de la confiance des règles d'association et la sélection des règles les plus significatives."
      ],
      "metadata": {
        "id": "6jhKzvcLGvRj"
      }
    },
    {
      "cell_type": "markdown",
      "source": [
        "**Datasets**"
      ],
      "metadata": {
        "id": "hEPBYq7zHEC6"
      }
    },
    {
      "cell_type": "code",
      "source": [
        "# The dataset containing transaction IDs and corresponding items \n",
        "data = [\n",
        "        ['T1',[\"MILK\",\"BREAD\",\"BISCUIT\"]],\n",
        "        ['T2',[\"BREAD\",\"MILK\",\"BISCUIT\",\"CORNFLAKES\"]],\n",
        "        ['T3',[\"BREAD\",\"TEA\",\"BOURNVITA\"]],\n",
        "        ['T4',[\"JAM\",\"MAGGI\",\"BREAD\",\"MILK\"]],\n",
        "        ['T5',[\"MAGGI\",\"TEA\",\"BISCUIT\"]],\n",
        "        ['T6',[\"BREAD\",\"TEA\",\"BOURNVITA\"]],\n",
        "        ['T7',[\"MAGGI\",\"TEA\",\"CORNFLAKES\"]],\n",
        "        ['T8',[\"MAGGI\",\"BREAD\",\"TEA\",\"BISCUIT\"]],\n",
        "        ['T9',[\"JAM\",\"MAGGI\",\"BREAD\",\"TEA\"]],\n",
        "        ['T10',[\"BREAD\",\"MILK\"]],\n",
        "        ['T11',[\"COFFEE\",\"CHICKEN\",\"BISCUIT\",\"CORNFLAKES\"]],\n",
        "        ['T12',[\"COFFEE\",\"CHICKEN\",\"BISCUIT\",\"CORNFLAKES\"]],\n",
        "        ['T13',[\"COFFEE\",\"SUGER\",\"BOURNVITA\"]],\n",
        "        ['T14',[\"BREAD\",\"COFFEE\",\"CHICKEN\"]],\n",
        "        ['T15',[\"BREAD\",\"SUGER\",\"BISCUIT\"]],\n",
        "        ['T16',[\"COFFEE\",\"SUGER\",\"CORNFLAKES\"]],\n",
        "        ['T17',[\"BREAD\",\"SUGER\",\"BOURNVITA\"]],\n",
        "        ['T18',[\"BREAD\",\"COFFEE\",\"SUGER\"]],\n",
        "        ['T19',[\"BREAD\",\"COFFEE\",\"SUGER\"]],\n",
        "        ['T20',[\"TEA\",\"MILK\",\"COFFEE\",\"CORNFLAKES\"]],\n",
        "        ]\n",
        "\n",
        "init = []\n",
        "for i in data:\n",
        "    for q in i[1]:\n",
        "        if(q not in init):\n",
        "            init.append(q)\n",
        "init = sorted(init)\n",
        "print(init)"
      ],
      "metadata": {
        "colab": {
          "base_uri": "https://localhost:8080/"
        },
        "id": "ASsX4YEf7RQQ",
        "outputId": "dc01f60a-a4af-4869-b342-7c95e459b17a"
      },
      "execution_count": 13,
      "outputs": [
        {
          "output_type": "stream",
          "name": "stdout",
          "text": [
            "['BISCUIT', 'BOURNVITA', 'BREAD', 'CHICKEN', 'COFFEE', 'CORNFLAKES', 'JAM', 'MAGGI', 'MILK', 'SUGER', 'TEA']\n"
          ]
        }
      ]
    },
    {
      "cell_type": "markdown",
      "source": [
        "\n",
        "\n",
        "**Support**\n",
        "\n",
        "Now, we choose a value for the support. 40% for example"
      ],
      "metadata": {
        "id": "ubvvKSBc8GsC"
      }
    },
    {
      "cell_type": "code",
      "source": [
        "# spécifie la proportion minimale pour être considéré\n",
        "sp = 0.4\n",
        "s = int(sp*len(init))\n",
        "s"
      ],
      "metadata": {
        "colab": {
          "base_uri": "https://localhost:8080/"
        },
        "id": "i8gsTMki8Hq9",
        "outputId": "79727272-60f8-467c-9f2c-3d9b13401dae"
      },
      "execution_count": null,
      "outputs": [
        {
          "output_type": "execute_result",
          "data": {
            "text/plain": [
              "4"
            ]
          },
          "metadata": {},
          "execution_count": 10
        }
      ]
    },
    {
      "cell_type": "markdown",
      "source": [
        "**Algorithm**\n",
        "\n",
        "It's time to apply the algorithm"
      ],
      "metadata": {
        "id": "WSGJRU-WAOE-"
      }
    },
    {
      "cell_type": "code",
      "source": [
        "#  C for candidate sets and L for frequent sets !!!!Check  tout de même si je ne les ai pas inversé\n",
        "from collections import Counter\n",
        "c = Counter()\n",
        "for i in init:\n",
        "    for d in data:\n",
        "        if(i in d[1]):\n",
        "            c[i]+=1\n",
        "print(\"C1:\")\n",
        "for i in c:\n",
        "    print(str([i])+\": \"+str(c[i]))\n",
        "print()\n",
        "l = Counter()\n",
        "# filtre les articles fréquents\n",
        "for i in c:\n",
        "    if(c[i] >= s):\n",
        "        l[frozenset([i])]+=c[i]\n",
        "print(\"L1:\")\n",
        "for i in l:\n",
        "    print(str(list(i))+\": \"+str(l[i]))\n",
        "print()\n",
        "pl = l\n",
        "pos = 1\n",
        "for count in range (2,1000):\n",
        "    nc = set()\n",
        "    temp = list(l)\n",
        "    # Génère les ensembles candidats de taille k en combinant les ensembles fréquents de taille k-1\n",
        "    for i in range(0,len(temp)):\n",
        "        for j in range(i+1,len(temp)):\n",
        "            t = temp[i].union(temp[j])\n",
        "            if(len(t) == count):\n",
        "                nc.add(temp[i].union(temp[j]))\n",
        "    nc = list(nc)\n",
        "    c = Counter()\n",
        "    \n",
        "    for i in nc:\n",
        "        c[i] = 0\n",
        "        for q in data:\n",
        "            temp = set(q[1])\n",
        "            if(i.issubset(temp)):\n",
        "                c[i]+=1\n",
        "    print(\"C\"+str(count)+\":\")\n",
        "    for i in c:\n",
        "        print(str(list(i))+\": \"+str(c[i]))\n",
        "    print()\n",
        "    l = Counter()\n",
        "    # Filtre les ensembles fréquents\n",
        "    for i in c:\n",
        "        if(c[i] >= s):\n",
        "            l[i]+=c[i]\n",
        "    print(\"L\"+str(count)+\":\")\n",
        "    for i in l:\n",
        "        print(str(list(i))+\": \"+str(l[i]))\n",
        "    print()\n",
        "    if(len(l) == 0):\n",
        "        break\n",
        "    pl = l\n",
        "    pos = count\n",
        "print(\"Result: \")\n",
        "print(\"L\"+str(pos)+\":\")\n",
        "for i in pl:\n",
        "    print(str(list(i))+\": \"+str(pl[i]))\n",
        "print()"
      ],
      "metadata": {
        "colab": {
          "base_uri": "https://localhost:8080/"
        },
        "id": "SQx06YaQAfAs",
        "outputId": "81f9978f-7ca4-4b8a-b1bc-05a58fa5060d"
      },
      "execution_count": null,
      "outputs": [
        {
          "output_type": "stream",
          "name": "stdout",
          "text": [
            "C1:\n",
            "['BISCUIT']: 7\n",
            "['BOURNVITA']: 4\n",
            "['BREAD']: 13\n",
            "['CHICKEN']: 3\n",
            "['COFFEE']: 8\n",
            "['CORNFLAKES']: 6\n",
            "['JAM']: 2\n",
            "['MAGGI']: 5\n",
            "['MILK']: 5\n",
            "['SUGER']: 6\n",
            "['TEA']: 7\n",
            "\n",
            "L1:\n",
            "['BISCUIT']: 7\n",
            "['BOURNVITA']: 4\n",
            "['BREAD']: 13\n",
            "['COFFEE']: 8\n",
            "['CORNFLAKES']: 6\n",
            "['MAGGI']: 5\n",
            "['MILK']: 5\n",
            "['SUGER']: 6\n",
            "['TEA']: 7\n",
            "\n",
            "C2:\n",
            "['BREAD', 'BOURNVITA']: 3\n",
            "['MAGGI', 'MILK']: 1\n",
            "['TEA', 'MILK']: 1\n",
            "['BOURNVITA', 'TEA']: 2\n",
            "['TEA', 'CORNFLAKES']: 2\n",
            "['MAGGI', 'BOURNVITA']: 0\n",
            "['BREAD', 'COFFEE']: 3\n",
            "['BREAD', 'BISCUIT']: 4\n",
            "['MAGGI', 'TEA']: 4\n",
            "['BREAD', 'MILK']: 4\n",
            "['SUGER', 'CORNFLAKES']: 1\n",
            "['BISCUIT', 'TEA']: 2\n",
            "['MAGGI', 'BREAD']: 3\n",
            "['MAGGI', 'BISCUIT']: 2\n",
            "['BREAD', 'TEA']: 4\n",
            "['BOURNVITA', 'CORNFLAKES']: 0\n",
            "['MAGGI', 'SUGER']: 0\n",
            "['BREAD', 'CORNFLAKES']: 1\n",
            "['BOURNVITA', 'BISCUIT']: 0\n",
            "['BISCUIT', 'CORNFLAKES']: 3\n",
            "['SUGER', 'BISCUIT']: 1\n",
            "['SUGER', 'BREAD']: 4\n",
            "['MAGGI', 'CORNFLAKES']: 1\n",
            "['SUGER', 'BOURNVITA']: 2\n",
            "['MILK', 'COFFEE']: 1\n",
            "['BOURNVITA', 'COFFEE']: 1\n",
            "['BISCUIT', 'COFFEE']: 2\n",
            "['BISCUIT', 'MILK']: 2\n",
            "['SUGER', 'TEA']: 0\n",
            "['MAGGI', 'COFFEE']: 0\n",
            "['TEA', 'COFFEE']: 1\n",
            "['CORNFLAKES', 'COFFEE']: 4\n",
            "['SUGER', 'MILK']: 0\n",
            "['MILK', 'CORNFLAKES']: 2\n",
            "['BOURNVITA', 'MILK']: 0\n",
            "['SUGER', 'COFFEE']: 4\n",
            "\n",
            "L2:\n",
            "['BREAD', 'BISCUIT']: 4\n",
            "['MAGGI', 'TEA']: 4\n",
            "['BREAD', 'MILK']: 4\n",
            "['BREAD', 'TEA']: 4\n",
            "['SUGER', 'BREAD']: 4\n",
            "['CORNFLAKES', 'COFFEE']: 4\n",
            "['SUGER', 'COFFEE']: 4\n",
            "\n",
            "C3:\n",
            "['SUGER', 'CORNFLAKES', 'COFFEE']: 1\n",
            "['SUGER', 'BREAD', 'BISCUIT']: 1\n",
            "['BREAD', 'BISCUIT', 'TEA']: 1\n",
            "['MAGGI', 'BREAD', 'TEA']: 2\n",
            "['SUGER', 'BREAD', 'COFFEE']: 2\n",
            "['BREAD', 'TEA', 'MILK']: 0\n",
            "['SUGER', 'BREAD', 'MILK']: 0\n",
            "['SUGER', 'BREAD', 'TEA']: 0\n",
            "['BREAD', 'BISCUIT', 'MILK']: 2\n",
            "\n",
            "L3:\n",
            "\n",
            "Result: \n",
            "L2:\n",
            "['BREAD', 'BISCUIT']: 4\n",
            "['MAGGI', 'TEA']: 4\n",
            "['BREAD', 'MILK']: 4\n",
            "['BREAD', 'TEA']: 4\n",
            "['SUGER', 'BREAD']: 4\n",
            "['CORNFLAKES', 'COFFEE']: 4\n",
            "['SUGER', 'COFFEE']: 4\n",
            "\n"
          ]
        }
      ]
    },
    {
      "cell_type": "markdown",
      "source": [
        "\n",
        "\n",
        "**Association rules for the datasets**"
      ],
      "metadata": {
        "id": "mNBKrI57Do5M"
      }
    },
    {
      "cell_type": "code",
      "source": [
        "from itertools import combinations\n",
        "for l in pl:\n",
        "    c = [frozenset(q) for q in combinations(l,len(l)-1)]\n",
        "    mmax = 0\n",
        "    # Calcule les règles d'association en utilisant les ensembles fréquents\n",
        "    for a in c:\n",
        "        b = l-a\n",
        "        ab = l\n",
        "        sab = 0\n",
        "        sa = 0\n",
        "        sb = 0\n",
        "        for q in data:\n",
        "            temp = set(q[1])\n",
        "            if(a.issubset(temp)):\n",
        "                sa+=1\n",
        "            if(b.issubset(temp)):\n",
        "                sb+=1\n",
        "            if(ab.issubset(temp)):\n",
        "                sab+=1\n",
        "        # Calcule la confiance des règles d'association et trouve le maximum\n",
        "        temp = sab/sa*100\n",
        "        if(temp > mmax):\n",
        "            mmax = temp\n",
        "        \n",
        "        temp = sab/sb*100\n",
        "        if(temp > mmax):\n",
        "            mmax = temp\n",
        "        print(str(list(a))+\" -> \"+str(list(b))+\" = \"+str(sab/sa*100)+\"%\")\n",
        "        print(str(list(b))+\" -> \"+str(list(a))+\" = \"+str(sab/sb*100)+\"%\")\n",
        "    curr = 1\n",
        "    print(\"choosing:\", end=' ')\n",
        "    # Affiche les indices des règles d'association ayant la confiance maximale\n",
        "    for a in c:\n",
        "        b = l-a\n",
        "        ab = l\n",
        "        sab = 0\n",
        "        sa = 0\n",
        "        sb = 0\n",
        "        for q in data:\n",
        "            temp = set(q[1])\n",
        "            if(a.issubset(temp)):\n",
        "                sa+=1\n",
        "            if(b.issubset(temp)):\n",
        "                sb+=1\n",
        "            if(ab.issubset(temp)):\n",
        "                sab+=1\n",
        "        temp = sab/sa*100\n",
        "        if(temp == mmax):\n",
        "            print(curr, end = ' ')\n",
        "        curr += 1\n",
        "        temp = sab/sb*100\n",
        "        if(temp == mmax):\n",
        "            print(curr, end = ' ')\n",
        "        curr += 1\n",
        "    print()\n",
        "    print()"
      ],
      "metadata": {
        "colab": {
          "base_uri": "https://localhost:8080/"
        },
        "id": "CQBGwRLaD9r0",
        "outputId": "7defd11e-94b6-4efd-bc7e-41b91266660c"
      },
      "execution_count": null,
      "outputs": [
        {
          "output_type": "stream",
          "name": "stdout",
          "text": [
            "['BREAD'] -> ['BISCUIT'] = 30.76923076923077%\n",
            "['BISCUIT'] -> ['BREAD'] = 57.14285714285714%\n",
            "['BISCUIT'] -> ['BREAD'] = 57.14285714285714%\n",
            "['BREAD'] -> ['BISCUIT'] = 30.76923076923077%\n",
            "choosing: 2 3 \n",
            "\n",
            "['MAGGI'] -> ['TEA'] = 80.0%\n",
            "['TEA'] -> ['MAGGI'] = 57.14285714285714%\n",
            "['TEA'] -> ['MAGGI'] = 57.14285714285714%\n",
            "['MAGGI'] -> ['TEA'] = 80.0%\n",
            "choosing: 1 4 \n",
            "\n",
            "['BREAD'] -> ['MILK'] = 30.76923076923077%\n",
            "['MILK'] -> ['BREAD'] = 80.0%\n",
            "['MILK'] -> ['BREAD'] = 80.0%\n",
            "['BREAD'] -> ['MILK'] = 30.76923076923077%\n",
            "choosing: 2 3 \n",
            "\n",
            "['BREAD'] -> ['TEA'] = 30.76923076923077%\n",
            "['TEA'] -> ['BREAD'] = 57.14285714285714%\n",
            "['TEA'] -> ['BREAD'] = 57.14285714285714%\n",
            "['BREAD'] -> ['TEA'] = 30.76923076923077%\n",
            "choosing: 2 3 \n",
            "\n",
            "['SUGER'] -> ['BREAD'] = 66.66666666666666%\n",
            "['BREAD'] -> ['SUGER'] = 30.76923076923077%\n",
            "['BREAD'] -> ['SUGER'] = 30.76923076923077%\n",
            "['SUGER'] -> ['BREAD'] = 66.66666666666666%\n",
            "choosing: 1 4 \n",
            "\n",
            "['CORNFLAKES'] -> ['COFFEE'] = 66.66666666666666%\n",
            "['COFFEE'] -> ['CORNFLAKES'] = 50.0%\n",
            "['COFFEE'] -> ['CORNFLAKES'] = 50.0%\n",
            "['CORNFLAKES'] -> ['COFFEE'] = 66.66666666666666%\n",
            "choosing: 1 4 \n",
            "\n",
            "['SUGER'] -> ['COFFEE'] = 66.66666666666666%\n",
            "['COFFEE'] -> ['SUGER'] = 50.0%\n",
            "['COFFEE'] -> ['SUGER'] = 50.0%\n",
            "['SUGER'] -> ['COFFEE'] = 66.66666666666666%\n",
            "choosing: 1 4 \n",
            "\n"
          ]
        }
      ]
    }
  ]
}